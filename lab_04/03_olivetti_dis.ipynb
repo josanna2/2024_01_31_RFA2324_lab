{
  "cells": [
    {
      "cell_type": "markdown",
      "metadata": {
        "id": "mUdq0XQhCM6g"
      },
      "source": [
        "# Olivetti con clasificadores discriminativos"
      ]
    },
    {
      "cell_type": "code",
      "execution_count": 2,
      "metadata": {
        "id": "tPTOUxRuCM6j"
      },
      "outputs": [],
      "source": [
        "from sklearn.datasets import fetch_olivetti_faces\n",
        "from sklearn.model_selection import train_test_split\n",
        "orl = fetch_olivetti_faces()\n",
        "X = orl.data\n",
        "y = orl.target\n",
        "X_train, X_test, y_train, y_test = train_test_split(\n",
        "    orl.data, orl.target, test_size=0.3, shuffle=True, random_state=23)"
      ]
    },
    {
      "cell_type": "markdown",
      "metadata": {
        "id": "vY8egnAgCM6l"
      },
      "source": [
        "**Regresión logística**"
      ]
    },
    {
      "cell_type": "code",
      "execution_count": 6,
      "metadata": {
        "colab": {
          "base_uri": "https://localhost:8080/"
        },
        "id": "AoAG2atJCM6l",
        "outputId": "39e44bd5-9265-46fb-e002-2b9bd11656e0"
      },
      "outputs": [
        {
          "output_type": "stream",
          "name": "stdout",
          "text": [
            "La precisión de LogisticRegression(max_iter=10000) es 98.3%\n"
          ]
        }
      ],
      "source": [
        "from sklearn.linear_model import LogisticRegression\n",
        "from sklearn.metrics import accuracy_score\n",
        "clf = LogisticRegression(max_iter=10000).fit(X_train, y_train)\n",
        "acc = accuracy_score(y_test, clf.predict(X_test))\n",
        "print('La precisión de {0!s} es {1:.1%}'.format(clf, acc))"
      ]
    },
    {
      "cell_type": "markdown",
      "source": [
        "**Estandarización de datos**"
      ],
      "metadata": {
        "id": "vf0QzeysDP4c"
      }
    },
    {
      "cell_type": "code",
      "execution_count": 8,
      "metadata": {
        "colab": {
          "base_uri": "https://localhost:8080/"
        },
        "id": "l9y4xRaICM6m",
        "outputId": "ffeef4c2-1423-415a-d495-224c35b9642c"
      },
      "outputs": [
        {
          "output_type": "stream",
          "name": "stdout",
          "text": [
            "La precisión de LogisticRegression(max_iter=10000) es 99.2%\n"
          ]
        }
      ],
      "source": [
        "import numpy as np\n",
        "m = np.mean(X_train, axis=0)\n",
        "sigma = np.std(X_train, axis=0)\n",
        "X_trainstd = (X_train - m) / sigma\n",
        "X_teststd = (X_test - m) / sigma\n",
        "clf = LogisticRegression(max_iter=10000).fit(X_trainstd, y_train)\n",
        "acc = accuracy_score(y_test, clf.predict(X_teststd))\n",
        "print('La precisión de {0!s} es {1:.1%}'.format(clf, acc))"
      ]
    }
  ],
  "metadata": {
    "kernelspec": {
      "display_name": "Python 3",
      "language": "python",
      "name": "python3"
    },
    "language_info": {
      "codemirror_mode": {
        "name": "ipython",
        "version": 3
      },
      "file_extension": ".py",
      "mimetype": "text/x-python",
      "name": "python",
      "nbconvert_exporter": "python",
      "pygments_lexer": "ipython3",
      "version": "3.10.7"
    },
    "vscode": {
      "interpreter": {
        "hash": "e7370f93d1d0cde622a1f8e1c04877d8463912d04d973331ad4851f04de6915a"
      }
    },
    "colab": {
      "provenance": []
    }
  },
  "nbformat": 4,
  "nbformat_minor": 0
}