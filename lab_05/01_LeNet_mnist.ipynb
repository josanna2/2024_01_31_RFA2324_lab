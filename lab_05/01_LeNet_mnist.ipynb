{
  "cells": [
    {
      "cell_type": "markdown",
      "metadata": {
        "id": "J0f0nt-fKzYr"
      },
      "source": [
        "**Experimento con LeNet sobre MNIST**\n",
        "\n",
        "**LeNet (1998):** $\\;$ CNN de Yann LeCun para MNIST\n",
        "\n",
        "<div align=\"center\">\n",
        "<table><tr>\n",
        "<td style=\"border: none;\"><img src=\"https://github.com/AlfonsJ/2024_01_31_RFA2324/blob/main/P03%20Redes%20neuronales%20profundas/T14%20Redes%20neuronales%20para%20im%C3%A1genes/14.3%20Arquitecturas%20comunes%20para%20clasificaci%C3%B3n%20de%20im%C3%A1genes/LeNet.png?raw=1\" width=300/></td>\n",
        "<td style=\"border: none;\"><img src=\"https://github.com/AlfonsJ/2024_01_31_RFA2324/blob/main/P03%20Redes%20neuronales%20profundas/T14%20Redes%20neuronales%20para%20im%C3%A1genes/14.3%20Arquitecturas%20comunes%20para%20clasificaci%C3%B3n%20de%20im%C3%A1genes/Figure_14.15.png?raw=1\" width=800/></td>\n",
        "</tr></table>\n",
        "</div>"
      ]
    },
    {
      "cell_type": "markdown",
      "metadata": {},
      "source": [
        "**Lectura del corpus mnist, partición train, test y normalización**"
      ]
    },
    {
      "cell_type": "code",
      "execution_count": 25,
      "metadata": {
        "colab": {
          "base_uri": "https://localhost:8080/",
          "height": 84,
          "referenced_widgets": [
            "93fdf95dc20f4e65887145bcbd3c8c24",
            "88e257b0a5214e22bf1560a50b5bacf4",
            "8b4e2150d0934da88bd0f27c90c22185",
            "62f48ae7a8314514a44513c4a7775c14",
            "19578dd3c12944c8b0790a4751408d01",
            "6d4078cf8e7c44cdaf93b3015ab9f2e9",
            "accea74627934cf5b530ee94e393331f",
            "b5707e36f05d46648c59d77248076829",
            "60503ccbf131464bb1cac08d93bd093a",
            "419131adf1e144109dcb8fa0d8d8dfe3",
            "26a80bc404c44be7971a3996e9ead285"
          ]
        },
        "id": "aCqPB0iEKzYt",
        "outputId": "89fad77b-d6c2-4e34-e1d7-fc5b5313d34f"
      },
      "outputs": [
        {
          "name": "stdout",
          "output_type": "stream",
          "text": [
            "training set (60000, 28, 28)\n",
            "test set (10000, 28, 28)\n"
          ]
        }
      ],
      "source": [
        "from tensorflow import keras\n",
        "from keras.datasets import mnist\n",
        "\n",
        "(x_train, y_train), (x_test, y_test) = mnist.load_data()\n",
        "\n",
        "print('training set', x_train.shape)\n",
        "print('test set', x_test.shape)\n",
        "\n",
        "x_train = x_train.astype('float32')\n",
        "x_test = x_test.astype('float32')\n",
        "\n",
        "# Normalize [0..255]-->[0..1]\n",
        "x_train /= 255\n",
        "x_test /= 255\n",
        "\n",
        "# convert class vectors to binary class matrices\n",
        "num_classes=10\n",
        "y_train = keras.utils.to_categorical(y_train, num_classes)\n",
        "y_test = keras.utils.to_categorical(y_test, num_classes)"
      ]
    },
    {
      "cell_type": "markdown",
      "metadata": {},
      "source": [
        "**Optimización con conjunto de validación**\n",
        "\n",
        "Hacemos la partición entrenamiento/validación (80%/20%)"
      ]
    },
    {
      "cell_type": "code",
      "execution_count": 26,
      "metadata": {},
      "outputs": [
        {
          "name": "stdout",
          "output_type": "stream",
          "text": [
            "training set (48000, 28, 28)\n",
            "val set (12000, 28, 28)\n"
          ]
        }
      ],
      "source": [
        "from sklearn.model_selection import train_test_split\n",
        "\n",
        "x_train, x_val, y_train, y_val = train_test_split(x_train, y_train, test_size=0.2, random_state=42)\n",
        "\n",
        "print('training set', x_train.shape)\n",
        "print('val set', x_val.shape)"
      ]
    },
    {
      "cell_type": "markdown",
      "metadata": {},
      "source": [
        "**Construimos la red secuencial siguiendo la estructura LeNet**"
      ]
    },
    {
      "cell_type": "code",
      "execution_count": 27,
      "metadata": {},
      "outputs": [
        {
          "name": "stdout",
          "output_type": "stream",
          "text": [
            "Model: \"sequential_3\"\n",
            "_________________________________________________________________\n",
            " Layer (type)                Output Shape              Param #   \n",
            "=================================================================\n",
            " conv2d_6 (Conv2D)           (None, 24, 24, 6)         156       \n",
            "                                                                 \n",
            " average_pooling2d_6 (Avera  (None, 12, 12, 6)         0         \n",
            " gePooling2D)                                                    \n",
            "                                                                 \n",
            " conv2d_7 (Conv2D)           (None, 8, 8, 16)          2416      \n",
            "                                                                 \n",
            " average_pooling2d_7 (Avera  (None, 4, 4, 16)          0         \n",
            " gePooling2D)                                                    \n",
            "                                                                 \n",
            " flatten_3 (Flatten)         (None, 256)               0         \n",
            "                                                                 \n",
            " dense_9 (Dense)             (None, 120)               30840     \n",
            "                                                                 \n",
            " dense_10 (Dense)            (None, 84)                10164     \n",
            "                                                                 \n",
            " dense_11 (Dense)            (None, 10)                850       \n",
            "                                                                 \n",
            "=================================================================\n",
            "Total params: 44426 (173.54 KB)\n",
            "Trainable params: 44426 (173.54 KB)\n",
            "Non-trainable params: 0 (0.00 Byte)\n",
            "_________________________________________________________________\n"
          ]
        }
      ],
      "source": [
        "M = keras.Sequential()\n",
        "M.add(keras.layers.Conv2D(filters=6, kernel_size=(5,5), activation='tanh', input_shape=(28,28,1)))\n",
        "M.add(keras.layers.AveragePooling2D(pool_size=(2,2), strides=2))\n",
        "M.add(keras.layers.Conv2D(filters=16, kernel_size=(5,5), activation='tanh'))\n",
        "M.add(keras.layers.AveragePooling2D(pool_size=(2,2), strides=2))\n",
        "M.add(keras.layers.Flatten())\n",
        "M.add(keras.layers.Dense(units=120, activation='tanh'))\n",
        "M.add(keras.layers.Dense(units=84, activation='tanh'))\n",
        "M.add(keras.layers.Dense(units=10, activation = 'softmax'))\n",
        "M.summary()"
      ]
    },
    {
      "cell_type": "markdown",
      "metadata": {},
      "source": [
        "**Generamos una imagen con la topología del modelo**"
      ]
    },
    {
      "cell_type": "code",
      "execution_count": 28,
      "metadata": {},
      "outputs": [
        {
          "data": {
            "image/png": "[encoded data removed]",
            "text/plain": [
              "<IPython.core.display.Image object>"
            ]
          },
          "execution_count": 28,
          "metadata": {},
          "output_type": "execute_result"
        }
      ],
      "source": [
        "keras.utils.plot_model(M, to_file=\"LeNet.png\")"
      ]
    },
    {
      "cell_type": "markdown",
      "metadata": {},
      "source": [
        "**Compilamos el modelo**\n",
        "\n",
        "Se han de definir los siguientes parámetros:\n",
        "\n",
        "    1. Función de pérdida. Al ser un problema de clasificación emplearemos la categorical_crossentropy\n",
        "    2. Optimizador. Como ejemplo aplicaremos descenso por gradiente estocástico SGD\n",
        "    3. Indicar una métrica asociada a la calidad del modelo. En este caso la tasa de acierto accuracy"
      ]
    },
    {
      "cell_type": "code",
      "execution_count": 29,
      "metadata": {},
      "outputs": [],
      "source": [
        "from keras.optimizers import SGD\n",
        "sgd=SGD(learning_rate=0.1, momentum=0.9)\n",
        "M.compile(loss='categorical_crossentropy', optimizer=sgd, metrics=['accuracy'])"
      ]
    },
    {
      "cell_type": "markdown",
      "metadata": {},
      "source": [
        "**Entrenamiento del modelo**\n",
        "\n",
        "Se han de definir los siguientes parámetros:\n",
        "\n",
        "1. Tamaño del batch\n",
        "2. Número de épocas\n",
        "\n",
        "Durante el entrenamiento el modelo se evalúa con los datos de validación. Se genera un history que permite representar gráficamente la evolución del modelo durante el entrenamiento."
      ]
    },
    {
      "cell_type": "code",
      "execution_count": 30,
      "metadata": {},
      "outputs": [
        {
          "name": "stdout",
          "output_type": "stream",
          "text": [
            "Epoch 1/15\n",
            "375/375 [==============================] - 8s 21ms/step - loss: 0.2427 - accuracy: 0.9251 - val_loss: 0.1033 - val_accuracy: 0.9693\n",
            "Epoch 2/15\n",
            "375/375 [==============================] - 7s 18ms/step - loss: 0.0789 - accuracy: 0.9756 - val_loss: 0.0670 - val_accuracy: 0.9799\n",
            "Epoch 3/15\n",
            "375/375 [==============================] - 6s 17ms/step - loss: 0.0524 - accuracy: 0.9834 - val_loss: 0.0626 - val_accuracy: 0.9823\n",
            "Epoch 4/15\n",
            "375/375 [==============================] - 6s 17ms/step - loss: 0.0403 - accuracy: 0.9875 - val_loss: 0.0610 - val_accuracy: 0.9829\n",
            "Epoch 5/15\n",
            "375/375 [==============================] - 7s 18ms/step - loss: 0.0306 - accuracy: 0.9901 - val_loss: 0.0497 - val_accuracy: 0.9866\n",
            "Epoch 6/15\n",
            "375/375 [==============================] - 7s 18ms/step - loss: 0.0240 - accuracy: 0.9930 - val_loss: 0.0540 - val_accuracy: 0.9851\n",
            "Epoch 7/15\n",
            "375/375 [==============================] - 8s 20ms/step - loss: 0.0182 - accuracy: 0.9943 - val_loss: 0.0565 - val_accuracy: 0.9847\n",
            "Epoch 8/15\n",
            "375/375 [==============================] - 7s 19ms/step - loss: 0.0157 - accuracy: 0.9953 - val_loss: 0.0526 - val_accuracy: 0.9862\n",
            "Epoch 9/15\n",
            "375/375 [==============================] - 7s 19ms/step - loss: 0.0118 - accuracy: 0.9962 - val_loss: 0.0508 - val_accuracy: 0.9866\n",
            "Epoch 10/15\n",
            "375/375 [==============================] - 7s 19ms/step - loss: 0.0101 - accuracy: 0.9968 - val_loss: 0.0472 - val_accuracy: 0.9877\n",
            "Epoch 11/15\n",
            "375/375 [==============================] - 7s 18ms/step - loss: 0.0067 - accuracy: 0.9980 - val_loss: 0.0546 - val_accuracy: 0.9857\n",
            "Epoch 12/15\n",
            "375/375 [==============================] - 7s 17ms/step - loss: 0.0061 - accuracy: 0.9982 - val_loss: 0.0514 - val_accuracy: 0.9878\n",
            "Epoch 13/15\n",
            "375/375 [==============================] - 6s 17ms/step - loss: 0.0045 - accuracy: 0.9989 - val_loss: 0.0487 - val_accuracy: 0.9884\n",
            "Epoch 14/15\n",
            "375/375 [==============================] - 7s 18ms/step - loss: 0.0024 - accuracy: 0.9996 - val_loss: 0.0476 - val_accuracy: 0.9893\n",
            "Epoch 15/15\n",
            "375/375 [==============================] - 7s 18ms/step - loss: 0.0014 - accuracy: 0.9998 - val_loss: 0.0475 - val_accuracy: 0.9888\n"
          ]
        }
      ],
      "source": [
        "batch_size=128\n",
        "epochs=15\n",
        "\n",
        "H = M.fit(x_train, y_train,\n",
        "                    batch_size=batch_size,\n",
        "                    epochs=epochs,\n",
        "                    verbose=1,\n",
        "                    validation_data=(x_val, y_val))"
      ]
    },
    {
      "cell_type": "markdown",
      "metadata": {},
      "source": [
        "**Representamos gráficamente la evolución del entrenamiento (loss y accuracy)**"
      ]
    },
    {
      "cell_type": "code",
      "execution_count": 31,
      "metadata": {
        "colab": {
          "base_uri": "https://localhost:8080/",
          "height": 470
        },
        "id": "XuamJ1NgKzYu",
        "outputId": "3755c079-2e9e-45d8-c4ad-3b4aface3b4f"
      },
      "outputs": [
        {
          "data": {
            "image/png": "[encoded data removed]",
            "text/plain": [
              "<Figure size 1200x500 with 2 Axes>"
            ]
          },
          "metadata": {},
          "output_type": "display_data"
        }
      ],
      "source": [
        "import numpy as np\n",
        "import matplotlib.pyplot as plt\n",
        "fig, axes = plt.subplots(1, 2, figsize=(12, 5))\n",
        "xx = np.arange(1, len(H.history['loss'])+1)\n",
        "xticks = np.concatenate((np.array([1]), np.arange(5, len(H.history['loss'])+1, 5)))\n",
        "ax = axes[0]; ax.grid(); ax.set_xlabel('epoch'); ax.set_ylabel('loss');\n",
        "ax.set_xticks(xticks)\n",
        "ax.plot(xx, H.history['loss'], color='b', marker='s', label='train')\n",
        "ax.plot(xx, H.history['val_loss'], color='r', marker='x', label='val'); ax.legend()\n",
        "ax = axes[1]; ax.grid(); ax.set_xlabel('epoch'); ax.set_ylabel('accuracy')\n",
        "ax.set_xticks(xticks); ax.set_yticks(np.arange(.9, 1.01, .01)); ax.set_ylim([.89, 1.])\n",
        "ax.plot(xx, H.history['accuracy'], color='b', marker='s', label='train')\n",
        "ax.plot(xx, H.history['val_accuracy'], color='r', marker='x', label='val'); ax.legend();"
      ]
    },
    {
      "cell_type": "markdown",
      "metadata": {},
      "source": [
        "**Guardado del modelo**"
      ]
    },
    {
      "cell_type": "code",
      "execution_count": 32,
      "metadata": {},
      "outputs": [],
      "source": [
        "M.save(\"LeNet.keras\")"
      ]
    },
    {
      "cell_type": "markdown",
      "metadata": {},
      "source": [
        "**Carga y evaluación del modelo**"
      ]
    },
    {
      "cell_type": "code",
      "execution_count": 33,
      "metadata": {},
      "outputs": [
        {
          "name": "stdout",
          "output_type": "stream",
          "text": [
            "Test loss: 0.0367586724460125\n",
            "Test accuracy: 0.9894000291824341\n"
          ]
        }
      ],
      "source": [
        "from keras.models import load_model\n",
        "M = load_model(\"LeNet.keras\")\n",
        "\n",
        "score = M.evaluate(x_test, y_test, verbose=0)\n",
        "print('Test loss:', score[0])\n",
        "print('Test accuracy:', score[1])"
      ]
    },
    {
      "cell_type": "markdown",
      "metadata": {},
      "source": [
        "\n",
        "**Model checkpoint**\n",
        "\n",
        "Los model checkpoint permiten almacenar diferentes instancias del modelo durante el entrenamiento con el fin de poder recuperarlo en caso de fallo del mismo o de recuperar el mejor modelo obtenido.\n"
      ]
    },
    {
      "cell_type": "code",
      "execution_count": null,
      "metadata": {},
      "outputs": [],
      "source": [
        "batch_size=128\n",
        "epochs=15\n",
        "\n",
        "checkpoint = keras.callbacks.ModelCheckpoint(filepath='best_model.h5', monitor='val_accuracy', save_best_only=True, verbose=1)\n",
        "\n",
        "H = M.fit(x_train, y_train,\n",
        "                    batch_size=batch_size,\n",
        "                    epochs=epochs,\n",
        "                    verbose=1,\n",
        "                    validation_data=(x_val, y_val),\n",
        "                    callbacks=[checkpoint]) "
      ]
    }
  ],
  "metadata": {
    "accelerator": "GPU",
    "colab": {
      "gpuType": "T4",
      "provenance": []
    },
    "kernelspec": {
      "display_name": "Python 3",
      "name": "python3"
    },
    "language_info": {
      "codemirror_mode": {
        "name": "ipython",
        "version": 3
      },
      "file_extension": ".py",
      "mimetype": "text/x-python",
      "name": "python",
      "nbconvert_exporter": "python",
      "pygments_lexer": "ipython3",
      "version": "3.10.7"
    },
    "orig_nbformat": 4,
    "widgets": {
      "application/vnd.jupyter.widget-state+json": {
        "19578dd3c12944c8b0790a4751408d01": {
          "model_module": "@jupyter-widgets/base",
          "model_module_version": "1.2.0",
          "model_name": "LayoutModel",
          "state": {
            "_model_module": "@jupyter-widgets/base",
            "_model_module_version": "1.2.0",
            "_model_name": "LayoutModel",
            "_view_count": null,
            "_view_module": "@jupyter-widgets/base",
            "_view_module_version": "1.2.0",
            "_view_name": "LayoutView",
            "align_content": null,
            "align_items": null,
            "align_self": null,
            "border": null,
            "bottom": null,
            "display": null,
            "flex": null,
            "flex_flow": null,
            "grid_area": null,
            "grid_auto_columns": null,
            "grid_auto_flow": null,
            "grid_auto_rows": null,
            "grid_column": null,
            "grid_gap": null,
            "grid_row": null,
            "grid_template_areas": null,
            "grid_template_columns": null,
            "grid_template_rows": null,
            "height": null,
            "justify_content": null,
            "justify_items": null,
            "left": null,
            "margin": null,
            "max_height": null,
            "max_width": null,
            "min_height": null,
            "min_width": null,
            "object_fit": null,
            "object_position": null,
            "order": null,
            "overflow": null,
            "overflow_x": null,
            "overflow_y": null,
            "padding": null,
            "right": null,
            "top": null,
            "visibility": null,
            "width": null
          }
        },
        "26a80bc404c44be7971a3996e9ead285": {
          "model_module": "@jupyter-widgets/controls",
          "model_module_version": "1.5.0",
          "model_name": "DescriptionStyleModel",
          "state": {
            "_model_module": "@jupyter-widgets/controls",
            "_model_module_version": "1.5.0",
            "_model_name": "DescriptionStyleModel",
            "_view_count": null,
            "_view_module": "@jupyter-widgets/base",
            "_view_module_version": "1.2.0",
            "_view_name": "StyleView",
            "description_width": ""
          }
        },
        "419131adf1e144109dcb8fa0d8d8dfe3": {
          "model_module": "@jupyter-widgets/base",
          "model_module_version": "1.2.0",
          "model_name": "LayoutModel",
          "state": {
            "_model_module": "@jupyter-widgets/base",
            "_model_module_version": "1.2.0",
            "_model_name": "LayoutModel",
            "_view_count": null,
            "_view_module": "@jupyter-widgets/base",
            "_view_module_version": "1.2.0",
            "_view_name": "LayoutView",
            "align_content": null,
            "align_items": null,
            "align_self": null,
            "border": null,
            "bottom": null,
            "display": null,
            "flex": null,
            "flex_flow": null,
            "grid_area": null,
            "grid_auto_columns": null,
            "grid_auto_flow": null,
            "grid_auto_rows": null,
            "grid_column": null,
            "grid_gap": null,
            "grid_row": null,
            "grid_template_areas": null,
            "grid_template_columns": null,
            "grid_template_rows": null,
            "height": null,
            "justify_content": null,
            "justify_items": null,
            "left": null,
            "margin": null,
            "max_height": null,
            "max_width": null,
            "min_height": null,
            "min_width": null,
            "object_fit": null,
            "object_position": null,
            "order": null,
            "overflow": null,
            "overflow_x": null,
            "overflow_y": null,
            "padding": null,
            "right": null,
            "top": null,
            "visibility": null,
            "width": null
          }
        },
        "60503ccbf131464bb1cac08d93bd093a": {
          "model_module": "@jupyter-widgets/controls",
          "model_module_version": "1.5.0",
          "model_name": "ProgressStyleModel",
          "state": {
            "_model_module": "@jupyter-widgets/controls",
            "_model_module_version": "1.5.0",
            "_model_name": "ProgressStyleModel",
            "_view_count": null,
            "_view_module": "@jupyter-widgets/base",
            "_view_module_version": "1.2.0",
            "_view_name": "StyleView",
            "bar_color": null,
            "description_width": ""
          }
        },
        "62f48ae7a8314514a44513c4a7775c14": {
          "model_module": "@jupyter-widgets/controls",
          "model_module_version": "1.5.0",
          "model_name": "HTMLModel",
          "state": {
            "_dom_classes": [],
            "_model_module": "@jupyter-widgets/controls",
            "_model_module_version": "1.5.0",
            "_model_name": "HTMLModel",
            "_view_count": null,
            "_view_module": "@jupyter-widgets/controls",
            "_view_module_version": "1.5.0",
            "_view_name": "HTMLView",
            "description": "",
            "description_tooltip": null,
            "layout": "IPY_MODEL_419131adf1e144109dcb8fa0d8d8dfe3",
            "placeholder": "​",
            "style": "IPY_MODEL_26a80bc404c44be7971a3996e9ead285",
            "value": " 5/5 [00:00&lt;00:00, 12.83 file/s]"
          }
        },
        "6d4078cf8e7c44cdaf93b3015ab9f2e9": {
          "model_module": "@jupyter-widgets/base",
          "model_module_version": "1.2.0",
          "model_name": "LayoutModel",
          "state": {
            "_model_module": "@jupyter-widgets/base",
            "_model_module_version": "1.2.0",
            "_model_name": "LayoutModel",
            "_view_count": null,
            "_view_module": "@jupyter-widgets/base",
            "_view_module_version": "1.2.0",
            "_view_name": "LayoutView",
            "align_content": null,
            "align_items": null,
            "align_self": null,
            "border": null,
            "bottom": null,
            "display": null,
            "flex": null,
            "flex_flow": null,
            "grid_area": null,
            "grid_auto_columns": null,
            "grid_auto_flow": null,
            "grid_auto_rows": null,
            "grid_column": null,
            "grid_gap": null,
            "grid_row": null,
            "grid_template_areas": null,
            "grid_template_columns": null,
            "grid_template_rows": null,
            "height": null,
            "justify_content": null,
            "justify_items": null,
            "left": null,
            "margin": null,
            "max_height": null,
            "max_width": null,
            "min_height": null,
            "min_width": null,
            "object_fit": null,
            "object_position": null,
            "order": null,
            "overflow": null,
            "overflow_x": null,
            "overflow_y": null,
            "padding": null,
            "right": null,
            "top": null,
            "visibility": null,
            "width": null
          }
        },
        "88e257b0a5214e22bf1560a50b5bacf4": {
          "model_module": "@jupyter-widgets/controls",
          "model_module_version": "1.5.0",
          "model_name": "HTMLModel",
          "state": {
            "_dom_classes": [],
            "_model_module": "@jupyter-widgets/controls",
            "_model_module_version": "1.5.0",
            "_model_name": "HTMLModel",
            "_view_count": null,
            "_view_module": "@jupyter-widgets/controls",
            "_view_module_version": "1.5.0",
            "_view_name": "HTMLView",
            "description": "",
            "description_tooltip": null,
            "layout": "IPY_MODEL_6d4078cf8e7c44cdaf93b3015ab9f2e9",
            "placeholder": "​",
            "style": "IPY_MODEL_accea74627934cf5b530ee94e393331f",
            "value": "Dl Completed...: 100%"
          }
        },
        "8b4e2150d0934da88bd0f27c90c22185": {
          "model_module": "@jupyter-widgets/controls",
          "model_module_version": "1.5.0",
          "model_name": "FloatProgressModel",
          "state": {
            "_dom_classes": [],
            "_model_module": "@jupyter-widgets/controls",
            "_model_module_version": "1.5.0",
            "_model_name": "FloatProgressModel",
            "_view_count": null,
            "_view_module": "@jupyter-widgets/controls",
            "_view_module_version": "1.5.0",
            "_view_name": "ProgressView",
            "bar_style": "success",
            "description": "",
            "description_tooltip": null,
            "layout": "IPY_MODEL_b5707e36f05d46648c59d77248076829",
            "max": 5,
            "min": 0,
            "orientation": "horizontal",
            "style": "IPY_MODEL_60503ccbf131464bb1cac08d93bd093a",
            "value": 5
          }
        },
        "93fdf95dc20f4e65887145bcbd3c8c24": {
          "model_module": "@jupyter-widgets/controls",
          "model_module_version": "1.5.0",
          "model_name": "HBoxModel",
          "state": {
            "_dom_classes": [],
            "_model_module": "@jupyter-widgets/controls",
            "_model_module_version": "1.5.0",
            "_model_name": "HBoxModel",
            "_view_count": null,
            "_view_module": "@jupyter-widgets/controls",
            "_view_module_version": "1.5.0",
            "_view_name": "HBoxView",
            "box_style": "",
            "children": [
              "IPY_MODEL_88e257b0a5214e22bf1560a50b5bacf4",
              "IPY_MODEL_8b4e2150d0934da88bd0f27c90c22185",
              "IPY_MODEL_62f48ae7a8314514a44513c4a7775c14"
            ],
            "layout": "IPY_MODEL_19578dd3c12944c8b0790a4751408d01"
          }
        },
        "accea74627934cf5b530ee94e393331f": {
          "model_module": "@jupyter-widgets/controls",
          "model_module_version": "1.5.0",
          "model_name": "DescriptionStyleModel",
          "state": {
            "_model_module": "@jupyter-widgets/controls",
            "_model_module_version": "1.5.0",
            "_model_name": "DescriptionStyleModel",
            "_view_count": null,
            "_view_module": "@jupyter-widgets/base",
            "_view_module_version": "1.2.0",
            "_view_name": "StyleView",
            "description_width": ""
          }
        },
        "b5707e36f05d46648c59d77248076829": {
          "model_module": "@jupyter-widgets/base",
          "model_module_version": "1.2.0",
          "model_name": "LayoutModel",
          "state": {
            "_model_module": "@jupyter-widgets/base",
            "_model_module_version": "1.2.0",
            "_model_name": "LayoutModel",
            "_view_count": null,
            "_view_module": "@jupyter-widgets/base",
            "_view_module_version": "1.2.0",
            "_view_name": "LayoutView",
            "align_content": null,
            "align_items": null,
            "align_self": null,
            "border": null,
            "bottom": null,
            "display": null,
            "flex": null,
            "flex_flow": null,
            "grid_area": null,
            "grid_auto_columns": null,
            "grid_auto_flow": null,
            "grid_auto_rows": null,
            "grid_column": null,
            "grid_gap": null,
            "grid_row": null,
            "grid_template_areas": null,
            "grid_template_columns": null,
            "grid_template_rows": null,
            "height": null,
            "justify_content": null,
            "justify_items": null,
            "left": null,
            "margin": null,
            "max_height": null,
            "max_width": null,
            "min_height": null,
            "min_width": null,
            "object_fit": null,
            "object_position": null,
            "order": null,
            "overflow": null,
            "overflow_x": null,
            "overflow_y": null,
            "padding": null,
            "right": null,
            "top": null,
            "visibility": null,
            "width": null
          }
        }
      }
    }
  },
  "nbformat": 4,
  "nbformat_minor": 0
}
