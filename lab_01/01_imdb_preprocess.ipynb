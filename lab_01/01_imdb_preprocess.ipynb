{
  "cells": [
    {
      "cell_type": "markdown",
      "metadata": {},
      "source": [
        "**Montamos la unidad Google Drive**"
      ]
    },
    {
      "cell_type": "code",
      "execution_count": null,
      "metadata": {},
      "outputs": [],
      "source": [
        "from google.colab import drive\n",
        "drive.mount('/content/drive')"
      ]
    },
    {
      "cell_type": "markdown",
      "metadata": {
        "id": "iDzyAecON3zZ"
      },
      "source": [
        "**Leemos el IMDB Dataset of 50K Movie Reviews**"
      ]
    },
    {
      "cell_type": "code",
      "execution_count": 1,
      "metadata": {
        "id": "kIfXZ4a3N3zd"
      },
      "outputs": [],
      "source": [
        "import pandas as pd , numpy as np\n",
        "\n",
        "#imdb = pd.read_csv('IMDB.csv')\n",
        "imdb = pd.read_csv('/content/drive/MyDrive/IMDB.csv')\n"
      ]
    },
    {
      "cell_type": "markdown",
      "metadata": {
        "id": "dv1SkxecN3zg"
      },
      "source": [
        "**Mostramos algunas estadísticas y características del corpus**"
      ]
    },
    {
      "cell_type": "code",
      "execution_count": 2,
      "metadata": {
        "colab": {
          "base_uri": "https://localhost:8080/",
          "height": 175
        },
        "id": "MqMUmiYcN3zi",
        "outputId": "3e26119d-ff68-460a-e557-8d7952382cc1"
      },
      "outputs": [
        {
          "data": {
            "text/html": [
              "<div>\n",
              "<style scoped>\n",
              "    .dataframe tbody tr th:only-of-type {\n",
              "        vertical-align: middle;\n",
              "    }\n",
              "\n",
              "    .dataframe tbody tr th {\n",
              "        vertical-align: top;\n",
              "    }\n",
              "\n",
              "    .dataframe thead th {\n",
              "        text-align: right;\n",
              "    }\n",
              "</style>\n",
              "<table border=\"1\" class=\"dataframe\">\n",
              "  <thead>\n",
              "    <tr style=\"text-align: right;\">\n",
              "      <th></th>\n",
              "      <th>review</th>\n",
              "      <th>sentiment</th>\n",
              "    </tr>\n",
              "  </thead>\n",
              "  <tbody>\n",
              "    <tr>\n",
              "      <th>count</th>\n",
              "      <td>50000</td>\n",
              "      <td>50000</td>\n",
              "    </tr>\n",
              "    <tr>\n",
              "      <th>unique</th>\n",
              "      <td>49582</td>\n",
              "      <td>2</td>\n",
              "    </tr>\n",
              "    <tr>\n",
              "      <th>top</th>\n",
              "      <td>Loved today's show!!! It was a variety and not...</td>\n",
              "      <td>positive</td>\n",
              "    </tr>\n",
              "    <tr>\n",
              "      <th>freq</th>\n",
              "      <td>5</td>\n",
              "      <td>25000</td>\n",
              "    </tr>\n",
              "  </tbody>\n",
              "</table>\n",
              "</div>"
            ],
            "text/plain": [
              "                                                   review sentiment\n",
              "count                                               50000     50000\n",
              "unique                                              49582         2\n",
              "top     Loved today's show!!! It was a variety and not...  positive\n",
              "freq                                                    5     25000"
            ]
          },
          "execution_count": 2,
          "metadata": {},
          "output_type": "execute_result"
        }
      ],
      "source": [
        "imdb.describe()"
      ]
    },
    {
      "cell_type": "code",
      "execution_count": 3,
      "metadata": {
        "colab": {
          "base_uri": "https://localhost:8080/",
          "height": 206
        },
        "id": "QaOhhEOCN3zk",
        "outputId": "f9051a68-b46b-458c-9c02-6f8e8392b75f"
      },
      "outputs": [
        {
          "data": {
            "text/html": [
              "<div>\n",
              "<style scoped>\n",
              "    .dataframe tbody tr th:only-of-type {\n",
              "        vertical-align: middle;\n",
              "    }\n",
              "\n",
              "    .dataframe tbody tr th {\n",
              "        vertical-align: top;\n",
              "    }\n",
              "\n",
              "    .dataframe thead th {\n",
              "        text-align: right;\n",
              "    }\n",
              "</style>\n",
              "<table border=\"1\" class=\"dataframe\">\n",
              "  <thead>\n",
              "    <tr style=\"text-align: right;\">\n",
              "      <th></th>\n",
              "      <th>review</th>\n",
              "      <th>sentiment</th>\n",
              "    </tr>\n",
              "  </thead>\n",
              "  <tbody>\n",
              "    <tr>\n",
              "      <th>0</th>\n",
              "      <td>One of the other reviewers has mentioned that ...</td>\n",
              "      <td>positive</td>\n",
              "    </tr>\n",
              "    <tr>\n",
              "      <th>1</th>\n",
              "      <td>A wonderful little production. &lt;br /&gt;&lt;br /&gt;The...</td>\n",
              "      <td>positive</td>\n",
              "    </tr>\n",
              "    <tr>\n",
              "      <th>2</th>\n",
              "      <td>I thought this was a wonderful way to spend ti...</td>\n",
              "      <td>positive</td>\n",
              "    </tr>\n",
              "    <tr>\n",
              "      <th>3</th>\n",
              "      <td>Basically there's a family where a little boy ...</td>\n",
              "      <td>negative</td>\n",
              "    </tr>\n",
              "    <tr>\n",
              "      <th>4</th>\n",
              "      <td>Petter Mattei's \"Love in the Time of Money\" is...</td>\n",
              "      <td>positive</td>\n",
              "    </tr>\n",
              "  </tbody>\n",
              "</table>\n",
              "</div>"
            ],
            "text/plain": [
              "                                              review sentiment\n",
              "0  One of the other reviewers has mentioned that ...  positive\n",
              "1  A wonderful little production. <br /><br />The...  positive\n",
              "2  I thought this was a wonderful way to spend ti...  positive\n",
              "3  Basically there's a family where a little boy ...  negative\n",
              "4  Petter Mattei's \"Love in the Time of Money\" is...  positive"
            ]
          },
          "execution_count": 3,
          "metadata": {},
          "output_type": "execute_result"
        }
      ],
      "source": [
        "imdb.head()"
      ]
    },
    {
      "cell_type": "code",
      "execution_count": 4,
      "metadata": {
        "colab": {
          "base_uri": "https://localhost:8080/"
        },
        "id": "G8SZwyeTN3zm",
        "outputId": "22ff20bc-62d2-42f3-9b7b-8b4b496b2a21"
      },
      "outputs": [
        {
          "data": {
            "text/plain": [
              "sentiment\n",
              "positive    25000\n",
              "negative    25000\n",
              "Name: count, dtype: int64"
            ]
          },
          "execution_count": 4,
          "metadata": {},
          "output_type": "execute_result"
        }
      ],
      "source": [
        "imdb['sentiment'].value_counts()"
      ]
    },
    {
      "cell_type": "code",
      "execution_count": 5,
      "metadata": {
        "colab": {
          "base_uri": "https://localhost:8080/",
          "height": 122
        },
        "id": "DmqeH1ujN3zm",
        "outputId": "639e7963-a23a-49d8-d03a-f5c27594468e"
      },
      "outputs": [
        {
          "data": {
            "text/plain": [
              "\"One of the other reviewers has mentioned that after watching just 1 Oz episode you'll be hooked. They are right, as this is exactly what happened with me.<br /><br />The first thing that struck me about Oz was its brutality and unflinching scenes of violence, which set in right from the word GO. Trust me, this is not a show for the faint hearted or timid. This show pulls no punches with regards to drugs, sex or violence. Its is hardcore, in the classic use of the word.<br /><br />It is called OZ as that is the nickname given to the Oswald Maximum Security State Penitentary. It focuses mainly on Emerald City, an experimental section of the prison where all the cells have glass fronts and face inwards, so privacy is not high on the agenda. Em City is home to many..Aryans, Muslims, gangstas, Latinos, Christians, Italians, Irish and more....so scuffles, death stares, dodgy dealings and shady agreements are never far away.<br /><br />I would say the main appeal of the show is due to the fact that it goes where other shows wouldn't dare. Forget pretty pictures painted for mainstream audiences, forget charm, forget romance...OZ doesn't mess around. The first episode I ever saw struck me as so nasty it was surreal, I couldn't say I was ready for it, but as I watched more, I developed a taste for Oz, and got accustomed to the high levels of graphic violence. Not just violence, but injustice (crooked guards who'll be sold out for a nickel, inmates who'll kill on order and get away with it, well mannered, middle class inmates being turned into prison bitches due to their lack of street skills or prison experience) Watching Oz, you may become comfortable with what is uncomfortable viewing....thats if you can get in touch with your darker side.\""
            ]
          },
          "execution_count": 5,
          "metadata": {},
          "output_type": "execute_result"
        }
      ],
      "source": [
        "imdb['review'][0]"
      ]
    },
    {
      "cell_type": "markdown",
      "metadata": {},
      "source": [
        "**Contamos el número de palabras por review**"
      ]
    },
    {
      "cell_type": "code",
      "execution_count": 6,
      "metadata": {},
      "outputs": [],
      "source": [
        "def number_of_words(text):\n",
        "    words = text.split()\n",
        "    word_count = len(words)\n",
        "    return word_count"
      ]
    },
    {
      "cell_type": "code",
      "execution_count": 7,
      "metadata": {},
      "outputs": [
        {
          "data": {
            "text/html": [
              "<div>\n",
              "<style scoped>\n",
              "    .dataframe tbody tr th:only-of-type {\n",
              "        vertical-align: middle;\n",
              "    }\n",
              "\n",
              "    .dataframe tbody tr th {\n",
              "        vertical-align: top;\n",
              "    }\n",
              "\n",
              "    .dataframe thead th {\n",
              "        text-align: right;\n",
              "    }\n",
              "</style>\n",
              "<table border=\"1\" class=\"dataframe\">\n",
              "  <thead>\n",
              "    <tr style=\"text-align: right;\">\n",
              "      <th></th>\n",
              "      <th>review</th>\n",
              "      <th>sentiment</th>\n",
              "      <th>word_count</th>\n",
              "    </tr>\n",
              "  </thead>\n",
              "  <tbody>\n",
              "    <tr>\n",
              "      <th>0</th>\n",
              "      <td>One of the other reviewers has mentioned that ...</td>\n",
              "      <td>positive</td>\n",
              "      <td>307</td>\n",
              "    </tr>\n",
              "    <tr>\n",
              "      <th>1</th>\n",
              "      <td>A wonderful little production. &lt;br /&gt;&lt;br /&gt;The...</td>\n",
              "      <td>positive</td>\n",
              "      <td>162</td>\n",
              "    </tr>\n",
              "    <tr>\n",
              "      <th>2</th>\n",
              "      <td>I thought this was a wonderful way to spend ti...</td>\n",
              "      <td>positive</td>\n",
              "      <td>166</td>\n",
              "    </tr>\n",
              "    <tr>\n",
              "      <th>3</th>\n",
              "      <td>Basically there's a family where a little boy ...</td>\n",
              "      <td>negative</td>\n",
              "      <td>138</td>\n",
              "    </tr>\n",
              "    <tr>\n",
              "      <th>4</th>\n",
              "      <td>Petter Mattei's \"Love in the Time of Money\" is...</td>\n",
              "      <td>positive</td>\n",
              "      <td>230</td>\n",
              "    </tr>\n",
              "  </tbody>\n",
              "</table>\n",
              "</div>"
            ],
            "text/plain": [
              "                                              review sentiment  word_count\n",
              "0  One of the other reviewers has mentioned that ...  positive         307\n",
              "1  A wonderful little production. <br /><br />The...  positive         162\n",
              "2  I thought this was a wonderful way to spend ti...  positive         166\n",
              "3  Basically there's a family where a little boy ...  negative         138\n",
              "4  Petter Mattei's \"Love in the Time of Money\" is...  positive         230"
            ]
          },
          "execution_count": 7,
          "metadata": {},
          "output_type": "execute_result"
        }
      ],
      "source": [
        "imdb['word_count'] = imdb['review'].apply(number_of_words)\n",
        "imdb.head()"
      ]
    },
    {
      "cell_type": "markdown",
      "metadata": {},
      "source": [
        "**Mostramos el histograma de número de palabras por clase**"
      ]
    },
    {
      "cell_type": "code",
      "execution_count": 8,
      "metadata": {},
      "outputs": [
        {
          "data": {
            "image/png": "[encoded data removed]",
            "text/plain": [
              "<Figure size 1300x500 with 2 Axes>"
            ]
          },
          "metadata": {},
          "output_type": "display_data"
        }
      ],
      "source": [
        "from matplotlib import pyplot as plt\n",
        "fig, ax = plt.subplots(1,2,figsize=(13,5))\n",
        "bins_edges=np.arange(0, 1100, step=50)\n",
        "word_count_positive=imdb[imdb['sentiment']=='positive']['word_count']\n",
        "ax[0].set_xticks(np.arange(0, 1200, step=100)) \n",
        "ax[0].set_yticks(np.arange(0, 7100, step=500))\n",
        "ax[0].hist(word_count_positive,bins=bins_edges,label='Positive',color='red',rwidth=0.9)\n",
        "ax[0].set_xlabel('Number of words')\n",
        "ax[0].set_ylabel('Number of reviews')\n",
        "ax[0].set_xlim([0, 1100])\n",
        "ax[0].set_ylim([0, 7050])\n",
        "ax[0].legend(loc='upper right')\n",
        "word_count_negative=imdb[imdb['sentiment']=='negative']['word_count']\n",
        "ax[1].set_xticks(np.arange(0, 1200, step=100))\n",
        "ax[1].set_yticks(np.arange(0, 7100, step=500))\n",
        "ax[1].hist(word_count_negative,bins=bins_edges,label='Negative',color='blue',rwidth=0.9)\n",
        "ax[1].set_xlabel('Number of words')\n",
        "ax[1].set_ylabel('Number of reviews')\n",
        "ax[1].set_xlim([0, 1100])\n",
        "ax[1].set_ylim([0, 7050])\n",
        "ax[1].legend(loc='upper right')\n",
        "plt.show()"
      ]
    },
    {
      "cell_type": "markdown",
      "metadata": {
        "id": "xTdd5YaMN3zo"
      },
      "source": [
        "**Pre-procesamos el corpus**"
      ]
    },
    {
      "cell_type": "markdown",
      "metadata": {
        "id": "Mjb5OpzsN3zp"
      },
      "source": [
        "**1. Cambiamos a minúsculas**"
      ]
    },
    {
      "cell_type": "code",
      "execution_count": 9,
      "metadata": {
        "colab": {
          "base_uri": "https://localhost:8080/",
          "height": 122
        },
        "id": "5uY-kOKBN3zr",
        "outputId": "575666d5-0317-45ed-da3f-7c1702b978b4"
      },
      "outputs": [
        {
          "data": {
            "text/plain": [
              "\"one of the other reviewers has mentioned that after watching just 1 oz episode you'll be hooked. they are right, as this is exactly what happened with me.<br /><br />the first thing that struck me about oz was its brutality and unflinching scenes of violence, which set in right from the word go. trust me, this is not a show for the faint hearted or timid. this show pulls no punches with regards to drugs, sex or violence. its is hardcore, in the classic use of the word.<br /><br />it is called oz as that is the nickname given to the oswald maximum security state penitentary. it focuses mainly on emerald city, an experimental section of the prison where all the cells have glass fronts and face inwards, so privacy is not high on the agenda. em city is home to many..aryans, muslims, gangstas, latinos, christians, italians, irish and more....so scuffles, death stares, dodgy dealings and shady agreements are never far away.<br /><br />i would say the main appeal of the show is due to the fact that it goes where other shows wouldn't dare. forget pretty pictures painted for mainstream audiences, forget charm, forget romance...oz doesn't mess around. the first episode i ever saw struck me as so nasty it was surreal, i couldn't say i was ready for it, but as i watched more, i developed a taste for oz, and got accustomed to the high levels of graphic violence. not just violence, but injustice (crooked guards who'll be sold out for a nickel, inmates who'll kill on order and get away with it, well mannered, middle class inmates being turned into prison bitches due to their lack of street skills or prison experience) watching oz, you may become comfortable with what is uncomfortable viewing....thats if you can get in touch with your darker side.\""
            ]
          },
          "execution_count": 9,
          "metadata": {},
          "output_type": "execute_result"
        }
      ],
      "source": [
        "imdb['review'] = imdb['review'].str.lower()\n",
        "imdb['review'][0]"
      ]
    },
    {
      "cell_type": "markdown",
      "metadata": {
        "id": "lQ_Ee4SDN3zs"
      },
      "source": [
        "**2. Eliminamos marcas HTML**"
      ]
    },
    {
      "cell_type": "code",
      "execution_count": 10,
      "metadata": {
        "id": "Up04lWZrN3zt"
      },
      "outputs": [],
      "source": [
        "import re\n",
        "def remove_html_tags(text):\n",
        "    pattern = re.compile('<.*?>')\n",
        "    return pattern.sub(r'',text)"
      ]
    },
    {
      "cell_type": "code",
      "execution_count": 11,
      "metadata": {
        "id": "LxDphNV4N3zu"
      },
      "outputs": [],
      "source": [
        "imdb['review'] = imdb['review'].apply(remove_html_tags)"
      ]
    },
    {
      "cell_type": "markdown",
      "metadata": {
        "id": "w_DCmmbFN3zv"
      },
      "source": [
        "**3. Eliminamos URLs**"
      ]
    },
    {
      "cell_type": "code",
      "execution_count": 12,
      "metadata": {
        "id": "ErCOL5NNN3zw"
      },
      "outputs": [],
      "source": [
        "def remove_urls(text):\n",
        "    pattern = re.compile(r'https?://\\S+|www\\.\\S+')\n",
        "    return pattern.sub(r'',text)"
      ]
    },
    {
      "cell_type": "code",
      "execution_count": 13,
      "metadata": {
        "id": "bjsPerQMN3zx"
      },
      "outputs": [],
      "source": [
        "imdb['review'] = imdb['review'].apply(remove_urls)"
      ]
    },
    {
      "cell_type": "markdown",
      "metadata": {
        "id": "eFXGDsQ2N3zx"
      },
      "source": [
        "**4. Eliminamos signos de puntuación**"
      ]
    },
    {
      "cell_type": "code",
      "execution_count": 14,
      "metadata": {
        "colab": {
          "base_uri": "https://localhost:8080/",
          "height": 35
        },
        "id": "21j2cInQN3zx",
        "outputId": "48dc13f5-c84b-4b68-eab9-d1f41498295f"
      },
      "outputs": [
        {
          "data": {
            "text/plain": [
              "'!\"#$%&\\'()*+,-./:;<=>?@[\\\\]^_`{|}~'"
            ]
          },
          "execution_count": 14,
          "metadata": {},
          "output_type": "execute_result"
        }
      ],
      "source": [
        "import string\n",
        "string.punctuation\n",
        "\n"
      ]
    },
    {
      "cell_type": "code",
      "execution_count": 15,
      "metadata": {
        "id": "oUi_cKpeN3zz"
      },
      "outputs": [],
      "source": [
        "exclude = string.punctuation\n",
        "def remove_punc(text):\n",
        "    return text.translate(str.maketrans('','',exclude))"
      ]
    },
    {
      "cell_type": "code",
      "execution_count": 16,
      "metadata": {
        "id": "Qvokg86yN3z0"
      },
      "outputs": [],
      "source": [
        "imdb['review'] = imdb['review'].apply(remove_punc)"
      ]
    },
    {
      "cell_type": "markdown",
      "metadata": {
        "id": "uYwnfvLdN3z0"
      },
      "source": [
        "**5. Transformamos abreviaturas a palabras**"
      ]
    },
    {
      "cell_type": "code",
      "execution_count": 17,
      "metadata": {
        "id": "hFAU-T8BN3z1"
      },
      "outputs": [],
      "source": [
        "chat_words = {'SK8' : 'Skate',\n",
        "            'STATS' : 'Your sex and age',\n",
        "'ASL':'Age, Sex, Location',\n",
        "'THX':'Thank You',\n",
        "'TTFN': 'Ta-Ta For Now!',\n",
        "'TTYL':'Talk To You Later',\n",
        "'U': 'You',\n",
        "'U2': 'You Too'}"
      ]
    },
    {
      "cell_type": "code",
      "execution_count": 18,
      "metadata": {
        "id": "A-eoVxwXN3z2"
      },
      "outputs": [],
      "source": [
        "def chat_conversion(text):\n",
        "    new_text = []\n",
        "    for w in text.split():\n",
        "        if w.upper() in chat_words:\n",
        "            new_text.append(chat_words[w.upper()])\n",
        "        else:\n",
        "            new_text.append(w)\n",
        "    return ' '.join(new_text)"
      ]
    },
    {
      "cell_type": "code",
      "execution_count": 19,
      "metadata": {
        "id": "P95zudGWN3z3"
      },
      "outputs": [],
      "source": [
        "imdb['review'] = imdb['review'].apply(chat_conversion)"
      ]
    },
    {
      "cell_type": "markdown",
      "metadata": {
        "id": "nwKEY23hN3z4"
      },
      "source": [
        "**6. Eliminamos palabras funcionales (stop words)**"
      ]
    },
    {
      "cell_type": "code",
      "execution_count": 20,
      "metadata": {
        "colab": {
          "base_uri": "https://localhost:8080/"
        },
        "id": "MN1u6O6SN3z4",
        "outputId": "9310beb4-0ed3-4bd8-d256-41d75c0c177a"
      },
      "outputs": [
        {
          "name": "stdout",
          "output_type": "stream",
          "text": [
            "{'once', 'any', 'down', 'that', 'over', 'very', 'about', 'too', 'above', 'am', 'being', 'out', \"hadn't\", 'off', 'themselves', 'm', 'which', \"shan't\", \"should've\", 'll', 'hers', 'or', 'i', 'with', 'its', 'both', 'there', 'here', 'ma', 'because', 'other', \"wasn't\", 'at', 'she', 'we', 'same', 'needn', 'nor', 'my', 'under', 'aren', 'by', 'in', 'own', \"don't\", 'whom', 'should', 'itself', \"doesn't\", 'where', 'against', \"you're\", 'weren', \"isn't\", 'it', 'few', 'can', 'who', 'some', 'wasn', 'only', 'during', 'just', 'after', 'so', 'to', 'ourselves', 'they', 'their', 'herself', 'do', \"you'd\", \"needn't\", 'again', 'was', 'haven', 'through', 'have', 'you', 'our', 'him', 'is', \"aren't\", \"mustn't\", 't', 'hasn', 'been', 'has', 'he', 'no', 'did', 'these', \"mightn't\", 'were', 'below', 'most', 'shan', 'up', 'ours', 'be', \"wouldn't\", 'his', 'this', 'theirs', 'not', 's', 'don', 'your', 'yourself', 'will', 'shouldn', 're', 'before', 'myself', 'but', 'until', 'of', 'from', 'had', 'couldn', 'if', \"weren't\", 'yourselves', \"won't\", 'while', 'between', 'hadn', \"you'll\", 'a', 'the', \"it's\", 'are', \"that'll\", 'then', 'now', 'd', 'for', \"haven't\", 'as', 'wouldn', 'does', \"didn't\", 'when', 'y', 'more', 'yours', 'why', 'o', 'further', 'what', 'won', 'her', 'an', 'doing', 'and', \"hasn't\", \"she's\", 'isn', 've', 'me', 'himself', 'such', \"couldn't\", 'those', 'than', 'each', 'how', 'mustn', 'them', \"you've\", 'all', 'into', 'didn', 'having', 'doesn', 'mightn', \"shouldn't\", 'on', 'ain'}\n"
          ]
        },
        {
          "name": "stderr",
          "output_type": "stream",
          "text": [
            "[nltk_data] Downloading package stopwords to\n",
            "[nltk_data]     /home/josanna/nltk_data...\n",
            "[nltk_data]   Package stopwords is already up-to-date!\n"
          ]
        }
      ],
      "source": [
        "import nltk\n",
        "nltk.download('stopwords')\n",
        "from nltk.corpus import stopwords\n",
        "stop=set(stopwords.words('english'))\n",
        "print(stop)"
      ]
    },
    {
      "cell_type": "code",
      "execution_count": 21,
      "metadata": {
        "id": "GA7LG0MrN3z5"
      },
      "outputs": [],
      "source": [
        "from nltk.tokenize.toktok import ToktokTokenizer\n",
        "tokenizer=ToktokTokenizer()\n",
        "stopword_list=nltk.corpus.stopwords.words('english')\n",
        "def remove_stopwords(text, is_lower_case=False):\n",
        "    tokens = tokenizer.tokenize(text)\n",
        "    tokens = [token.strip() for token in tokens]\n",
        "    if is_lower_case:\n",
        "        filtered_tokens = [token for token in tokens if token not in stopword_list]\n",
        "    else:\n",
        "        filtered_tokens = [token for token in tokens if token.lower() not in stopword_list]\n",
        "    filtered_text = ' '.join(filtered_tokens)\n",
        "    return filtered_text\n",
        "#Apply function on review column\n",
        "imdb['review']=imdb['review'].apply(remove_stopwords)"
      ]
    },
    {
      "cell_type": "markdown",
      "metadata": {},
      "source": [
        "**7. Lematización**"
      ]
    },
    {
      "cell_type": "code",
      "execution_count": 22,
      "metadata": {},
      "outputs": [],
      "source": [
        "from nltk.stem.porter import PorterStemmer\n",
        "def simple_stemmer(text):\n",
        "    ps=nltk.porter.PorterStemmer()\n",
        "    text= ' '.join([ps.stem(word) for word in text.split()])\n",
        "    return text\n",
        "#Apply function on review column\n",
        "imdb['review']=imdb['review'].apply(simple_stemmer)"
      ]
    },
    {
      "cell_type": "code",
      "execution_count": 23,
      "metadata": {},
      "outputs": [
        {
          "data": {
            "text/html": [
              "<div>\n",
              "<style scoped>\n",
              "    .dataframe tbody tr th:only-of-type {\n",
              "        vertical-align: middle;\n",
              "    }\n",
              "\n",
              "    .dataframe tbody tr th {\n",
              "        vertical-align: top;\n",
              "    }\n",
              "\n",
              "    .dataframe thead th {\n",
              "        text-align: right;\n",
              "    }\n",
              "</style>\n",
              "<table border=\"1\" class=\"dataframe\">\n",
              "  <thead>\n",
              "    <tr style=\"text-align: right;\">\n",
              "      <th></th>\n",
              "      <th>review</th>\n",
              "      <th>sentiment</th>\n",
              "      <th>word_count</th>\n",
              "      <th>new_word_count</th>\n",
              "    </tr>\n",
              "  </thead>\n",
              "  <tbody>\n",
              "    <tr>\n",
              "      <th>0</th>\n",
              "      <td>one review mention watch 1 oz episod youll hoo...</td>\n",
              "      <td>positive</td>\n",
              "      <td>307</td>\n",
              "      <td>168</td>\n",
              "    </tr>\n",
              "    <tr>\n",
              "      <th>1</th>\n",
              "      <td>wonder littl product film techniqu unassum old...</td>\n",
              "      <td>positive</td>\n",
              "      <td>162</td>\n",
              "      <td>84</td>\n",
              "    </tr>\n",
              "    <tr>\n",
              "      <th>2</th>\n",
              "      <td>thought wonder way spend time hot summer weeke...</td>\n",
              "      <td>positive</td>\n",
              "      <td>166</td>\n",
              "      <td>86</td>\n",
              "    </tr>\n",
              "    <tr>\n",
              "      <th>3</th>\n",
              "      <td>basic there famili littl boy jake think there ...</td>\n",
              "      <td>negative</td>\n",
              "      <td>138</td>\n",
              "      <td>67</td>\n",
              "    </tr>\n",
              "    <tr>\n",
              "      <th>4</th>\n",
              "      <td>petter mattei love time money visual stun film...</td>\n",
              "      <td>positive</td>\n",
              "      <td>230</td>\n",
              "      <td>125</td>\n",
              "    </tr>\n",
              "  </tbody>\n",
              "</table>\n",
              "</div>"
            ],
            "text/plain": [
              "                                              review sentiment  word_count  \\\n",
              "0  one review mention watch 1 oz episod youll hoo...  positive         307   \n",
              "1  wonder littl product film techniqu unassum old...  positive         162   \n",
              "2  thought wonder way spend time hot summer weeke...  positive         166   \n",
              "3  basic there famili littl boy jake think there ...  negative         138   \n",
              "4  petter mattei love time money visual stun film...  positive         230   \n",
              "\n",
              "   new_word_count  \n",
              "0             168  \n",
              "1              84  \n",
              "2              86  \n",
              "3              67  \n",
              "4             125  "
            ]
          },
          "execution_count": 23,
          "metadata": {},
          "output_type": "execute_result"
        }
      ],
      "source": [
        "imdb['new_word_count'] = imdb['review'].apply(number_of_words)\n",
        "imdb.head()"
      ]
    },
    {
      "cell_type": "code",
      "execution_count": 24,
      "metadata": {},
      "outputs": [
        {
          "data": {
            "image/png": "[encoded data removed]",
            "text/plain": [
              "<Figure size 1300x500 with 2 Axes>"
            ]
          },
          "metadata": {},
          "output_type": "display_data"
        }
      ],
      "source": [
        "from matplotlib import pyplot as plt\n",
        "fig, ax = plt.subplots(1,2,figsize=(13,5))\n",
        "word_count_positive=imdb[imdb['sentiment']=='positive']['new_word_count']\n",
        "bins_edges=np.arange(0, 650, step=25)\n",
        "ax[0].set_xticks(np.arange(0, 650, step=100)) \n",
        "ax[0].set_yticks(np.arange(0, 7100, step=500))\n",
        "ax[0].hist(word_count_positive,bins=bins_edges,label='Positive',color='red',rwidth=0.9)\n",
        "ax[0].set_xlabel('Number of words')\n",
        "ax[0].set_ylabel('Number of reviews')\n",
        "ax[0].set_xlim([0, 650])\n",
        "ax[0].set_ylim([0, 7100])\n",
        "ax[0].legend(loc='upper right')\n",
        "word_count_negative=imdb[imdb['sentiment']=='negative']['new_word_count']\n",
        "ax[1].set_xticks(np.arange(0, 650, step=100))\n",
        "ax[1].set_yticks(np.arange(0, 7100, step=500))\n",
        "ax[1].hist(word_count_negative,bins=bins_edges,label='Negative',color='blue',rwidth=0.9)\n",
        "ax[1].set_xlabel('Number of words')\n",
        "ax[1].set_ylabel('Number of reviews')\n",
        "ax[1].set_xlim([0, 650])\n",
        "ax[1].set_ylim([0, 7100])\n",
        "ax[1].legend(loc='upper right')\n",
        "plt.show()"
      ]
    },
    {
      "cell_type": "markdown",
      "metadata": {
        "id": "_cIfhsThN3z6"
      },
      "source": [
        "**Guardamos el resultado del preproceso**"
      ]
    },
    {
      "cell_type": "code",
      "execution_count": 25,
      "metadata": {
        "id": "LmhqxEHjN3z6"
      },
      "outputs": [],
      "source": [
        "imdb_norm=pd.DataFrame(imdb)\n",
        "#imdb_norm.to_csv('IMDB_prepro.csv', index=False)\n",
        "imdb_norm.to_csv('/content/drive/MyDrive/IMDB_prepro.csv', index=False)"
      ]
    }
  ],
  "metadata": {
    "colab": {
      "provenance": []
    },
    "kernelspec": {
      "display_name": "Python 3",
      "language": "python",
      "name": "python3"
    },
    "language_info": {
      "codemirror_mode": {
        "name": "ipython",
        "version": 3
      },
      "file_extension": ".py",
      "mimetype": "text/x-python",
      "name": "python",
      "nbconvert_exporter": "python",
      "pygments_lexer": "ipython3",
      "version": "3.10.7"
    },
    "orig_nbformat": 4
  },
  "nbformat": 4,
  "nbformat_minor": 0
}
